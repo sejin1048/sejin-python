{
 "cells": [
  {
   "cell_type": "code",
   "execution_count": 1,
   "metadata": {},
   "outputs": [],
   "source": [
    "# print(\"hello world\")"
   ]
  },
  {
   "cell_type": "code",
   "execution_count": 2,
   "metadata": {},
   "outputs": [],
   "source": [
    "# a = 1"
   ]
  },
  {
   "cell_type": "code",
   "execution_count": 3,
   "metadata": {},
   "outputs": [],
   "source": [
    "# a"
   ]
  },
  {
   "cell_type": "code",
   "execution_count": 4,
   "metadata": {},
   "outputs": [],
   "source": [
    "# b = [1,2,3,4,5]"
   ]
  },
  {
   "cell_type": "code",
   "execution_count": 5,
   "metadata": {},
   "outputs": [],
   "source": [
    "# b*2"
   ]
  },
  {
   "cell_type": "code",
   "execution_count": 6,
   "metadata": {},
   "outputs": [],
   "source": [
    "# # 영어 타자연습 프로그램\n",
    "# #타자연습 게임\n",
    "# import random\n",
    "# import time\n",
    "\n",
    "# word = ['sky', 'earth', 'moon', 'flower', 'tree', 'apple', 'grape',\n",
    "#         'garlic', 'onion', 'potato']\n",
    "\n",
    "# with open(\"word.txt\",'r') as f:\n",
    "#     word = f.read().split() #전역변수이다!\n",
    "\n",
    "# n = 1\n",
    "# input(\"[타자 게임] 준비되면 엔터!\")\n",
    "# start = time.time()\n",
    "\n",
    "# while n < 11:\n",
    "#     print(\"문제\",n)\n",
    "#     question = random.choice(word) #choice는 중복 나온다!\n",
    "#     print(question)\n",
    "#     user = input()\n",
    "#     if question == user : \n",
    "#         print(\"통과!\")\n",
    "#         n += 1\n",
    "#     else:\n",
    "#         print(\"오타! 다시 도전!\")\n",
    "\n",
    "# end = time.time()\n",
    "# et = end - start\n",
    "# print(f\"타자 시간: {et: .2f}초\")"
   ]
  },
  {
   "cell_type": "code",
   "execution_count": 7,
   "metadata": {},
   "outputs": [
    {
     "name": "stdout",
     "output_type": "stream",
     "text": [
      "[3 1 2 4]\n",
      "<class 'numpy.ndarray'>\n",
      "<class 'list'>\n"
     ]
    }
   ],
   "source": [
    "import numpy as np\n",
    "x = np.array([3,1,2,4]) #np는 하나의 타입만 지원한다!\n",
    "print(x)\n",
    "print(type(x))\n",
    "print(type([3,1,2]))"
   ]
  },
  {
   "cell_type": "code",
   "execution_count": 8,
   "metadata": {},
   "outputs": [
    {
     "name": "stdout",
     "output_type": "stream",
     "text": [
      "1 3\n",
      "1 2\n"
     ]
    }
   ],
   "source": [
    "c = [[1],[1,2]]\n",
    "d = np.array([[1,3], [1,2]]) # 배열 내의 갯수(동일한 차원)가 같아야 한다\n",
    "\n",
    "for x,y in d:\n",
    "    print(x,y)"
   ]
  },
  {
   "cell_type": "code",
   "execution_count": 9,
   "metadata": {},
   "outputs": [
    {
     "name": "stdout",
     "output_type": "stream",
     "text": [
      "[3. 6. 9.]\n",
      "[-1. -2. -3.]\n",
      "[ 2.  8. 18.]\n",
      "[0.5 0.5 0.5]\n",
      "[1. 2. 3.]\n"
     ]
    }
   ],
   "source": [
    "x = np.array([1.0,2.0,3.0]) #문자는 연산 불가!\n",
    "y = np.array([2.0,4.0,6.0]) #숫자만 연산 가능하다!\n",
    "print(x+y)\n",
    "print(x-y)\n",
    "print(x*y)\n",
    "print(x/y)\n",
    "print(y/2.0) #스칼라 값으로 나누기"
   ]
  },
  {
   "cell_type": "code",
   "execution_count": 10,
   "metadata": {},
   "outputs": [
    {
     "name": "stdout",
     "output_type": "stream",
     "text": [
      "(3,)\n",
      "float64\n",
      "(2, 2)\n"
     ]
    }
   ],
   "source": [
    "print(x.shape)\n",
    "print(x.dtype)\n",
    "print(d.shape)"
   ]
  },
  {
   "cell_type": "code",
   "execution_count": 11,
   "metadata": {},
   "outputs": [
    {
     "name": "stdout",
     "output_type": "stream",
     "text": [
      "2\n",
      "(3, 2)\n",
      "3\n",
      "(3, 2, 1)\n",
      "3\n",
      "(3, 2, 2)\n"
     ]
    }
   ],
   "source": [
    "a = np.array([[1,2],[3,4],[5,6]])\n",
    "print(a.ndim)\n",
    "print(a.shape)\n",
    "\n",
    "b = np.array([[[1],[2]],[[3],[4]],[[5],[6]]])\n",
    "print(b.ndim)\n",
    "print(b.shape)\n",
    "\n",
    "c = np.array([[[1,2],[2,2]],[[3,1],[4,1]],[[5,3],[6,4]]])\n",
    "print(c.ndim)\n",
    "print(c.shape)"
   ]
  },
  {
   "cell_type": "code",
   "execution_count": 12,
   "metadata": {},
   "outputs": [
    {
     "data": {
      "text/plain": [
       "8"
      ]
     },
     "execution_count": 12,
     "metadata": {},
     "output_type": "execute_result"
    }
   ],
   "source": [
    "np.dot(4,2)"
   ]
  },
  {
   "cell_type": "code",
   "execution_count": 27,
   "metadata": {},
   "outputs": [
    {
     "data": {
      "text/plain": [
       "16"
      ]
     },
     "execution_count": 27,
     "metadata": {},
     "output_type": "execute_result"
    }
   ],
   "source": [
    "ndar1 = np.array([1,2])\n",
    "ndar2 = np.array([4,6])\n",
    "np.dot(ndar1,ndar2)"
   ]
  },
  {
   "cell_type": "code",
   "execution_count": 14,
   "metadata": {},
   "outputs": [
    {
     "data": {
      "text/plain": [
       "array([[ 7, 10],\n",
       "       [15, 22]])"
      ]
     },
     "execution_count": 14,
     "metadata": {},
     "output_type": "execute_result"
    }
   ],
   "source": [
    "ndar1 = np.array([[1,2],[3,4]])\n",
    "ndar2 = np.array([[1,2],[3,4]])\n",
    "np.dot(ndar1,ndar2)"
   ]
  },
  {
   "cell_type": "code",
   "execution_count": 30,
   "metadata": {},
   "outputs": [
    {
     "ename": "TypeError",
     "evalue": "Field elements must be 2- or 3-tuples, got '3'",
     "output_type": "error",
     "traceback": [
      "\u001b[1;31m---------------------------------------------------------------------------\u001b[0m",
      "\u001b[1;31mTypeError\u001b[0m                                 Traceback (most recent call last)",
      "Cell \u001b[1;32mIn[30], line 2\u001b[0m\n\u001b[0;32m      1\u001b[0m \u001b[38;5;66;03m# #이렇게 하면 안된다!\u001b[39;00m\n\u001b[1;32m----> 2\u001b[0m ndar1 \u001b[38;5;241m=\u001b[39m np\u001b[38;5;241m.\u001b[39marray([\u001b[38;5;241m1\u001b[39m,\u001b[38;5;241m2\u001b[39m],[\u001b[38;5;241m3\u001b[39m,\u001b[38;5;241m4\u001b[39m])\n\u001b[0;32m      3\u001b[0m ndar2 \u001b[38;5;241m=\u001b[39m np\u001b[38;5;241m.\u001b[39marray([[\u001b[38;5;241m1\u001b[39m,\u001b[38;5;241m2\u001b[39m],[\u001b[38;5;241m3\u001b[39m,\u001b[38;5;241m4\u001b[39m]])\n\u001b[0;32m      4\u001b[0m np\u001b[38;5;241m.\u001b[39mmatmul(ndar1,ndar2)\n",
      "\u001b[1;31mTypeError\u001b[0m: Field elements must be 2- or 3-tuples, got '3'"
     ]
    }
   ],
   "source": [
    "# #이렇게 하면 안된다!\n",
    "ndar1 = np.array([1,2],[3,4])\n",
    "ndar2 = np.array([[1,2],[3,4]])\n",
    "np.matmul(ndar1,ndar2)"
   ]
  },
  {
   "cell_type": "code",
   "execution_count": 16,
   "metadata": {},
   "outputs": [
    {
     "name": "stdout",
     "output_type": "stream",
     "text": [
      "(2, 2)\n",
      "2\n",
      "1\n",
      "[[1 2]\n",
      " [3 4]]\n",
      "[1 2 3 4]\n"
     ]
    }
   ],
   "source": [
    "ndar1 = np.array([[1,2],[3,4]])\n",
    "\n",
    "print(ndar1.shape)\n",
    "print(ndar1.ndim)\n",
    "a = ndar1.flatten()\n",
    "\n",
    "print(a.ndim)\n",
    "print(ndar1)\n",
    "print(a)"
   ]
  },
  {
   "cell_type": "code",
   "execution_count": 17,
   "metadata": {},
   "outputs": [
    {
     "data": {
      "text/plain": [
       "array([[1],\n",
       "       [2],\n",
       "       [2],\n",
       "       [3],\n",
       "       [3],\n",
       "       [4]])"
      ]
     },
     "execution_count": 17,
     "metadata": {},
     "output_type": "execute_result"
    }
   ],
   "source": [
    "ndarr = np.array([[1,2],[2,3],[3,4]])\n",
    "ndarr.reshape(2,3)\n",
    "ndarr.reshape(6,1)\n",
    "# ndarr.reshape(1,6)"
   ]
  },
  {
   "cell_type": "code",
   "execution_count": 18,
   "metadata": {},
   "outputs": [
    {
     "data": {
      "text/plain": [
       "array([[4, 0, 3, 1],\n",
       "       [1, 4, 4, 2]])"
      ]
     },
     "execution_count": 18,
     "metadata": {},
     "output_type": "execute_result"
    }
   ],
   "source": [
    "np.random.randint(5, size = (2,4)) #4까지"
   ]
  },
  {
   "cell_type": "code",
   "execution_count": 19,
   "metadata": {},
   "outputs": [
    {
     "data": {
      "text/plain": [
       "array([[0.60583727, 0.60380442, 0.88230315, 0.03687386],\n",
       "       [0.65801782, 0.54035677, 0.72859048, 0.89745582]])"
      ]
     },
     "execution_count": 19,
     "metadata": {},
     "output_type": "execute_result"
    }
   ],
   "source": [
    "np.random.rand(2,4)"
   ]
  },
  {
   "cell_type": "code",
   "execution_count": 242,
   "metadata": {},
   "outputs": [],
   "source": [
    "#최신동향! 요즘엔 이렇게 한다고함\n",
    "rng = np.random.default_rng()"
   ]
  },
  {
   "cell_type": "code",
   "execution_count": 21,
   "metadata": {},
   "outputs": [
    {
     "data": {
      "text/plain": [
       "0.06391194293629288"
      ]
     },
     "execution_count": 21,
     "metadata": {},
     "output_type": "execute_result"
    }
   ],
   "source": [
    "rng.random() # 0~1사이값(1포함 x)"
   ]
  },
  {
   "cell_type": "code",
   "execution_count": 22,
   "metadata": {},
   "outputs": [
    {
     "data": {
      "text/plain": [
       "array([[0, 7, 9, 3],\n",
       "       [9, 7, 4, 6]], dtype=int64)"
      ]
     },
     "execution_count": 22,
     "metadata": {},
     "output_type": "execute_result"
    }
   ],
   "source": [
    "rng.integers(0,10,(2,4))"
   ]
  },
  {
   "cell_type": "code",
   "execution_count": 23,
   "metadata": {},
   "outputs": [
    {
     "data": {
      "text/plain": [
       "array([[ True, False],\n",
       "       [ True, False],\n",
       "       [False, False]])"
      ]
     },
     "execution_count": 23,
     "metadata": {},
     "output_type": "execute_result"
    }
   ],
   "source": [
    "#중요!!\n",
    "ndarr = np.array([[6,3],[5,2],[4,1]]) #차원이 같아야 한다\n",
    "ndarr > 4\n",
    "# ndarr[ndarr > 1]"
   ]
  },
  {
   "cell_type": "code",
   "execution_count": 24,
   "metadata": {},
   "outputs": [
    {
     "data": {
      "text/plain": [
       "array([[6, 3],\n",
       "       [5, 2],\n",
       "       [4, 1]])"
      ]
     },
     "execution_count": 24,
     "metadata": {},
     "output_type": "execute_result"
    }
   ],
   "source": [
    "ndarr[0:]"
   ]
  },
  {
   "cell_type": "code",
   "execution_count": 25,
   "metadata": {},
   "outputs": [
    {
     "data": {
      "text/plain": [
       "[[True, False], [True, False], [True, False]]"
      ]
     },
     "execution_count": 25,
     "metadata": {},
     "output_type": "execute_result"
    }
   ],
   "source": [
    "([[ True, False],\n",
    "       [ True, False],\n",
    "       [True, False]])"
   ]
  },
  {
   "cell_type": "code",
   "execution_count": 31,
   "metadata": {},
   "outputs": [],
   "source": [
    "# ndarr[([[ True, False],\n",
    "#        [ True, False],\n",
    "#        [True, False]])]"
   ]
  },
  {
   "cell_type": "code",
   "execution_count": 1,
   "metadata": {},
   "outputs": [
    {
     "ename": "NameError",
     "evalue": "name 'np' is not defined",
     "output_type": "error",
     "traceback": [
      "\u001b[1;31m---------------------------------------------------------------------------\u001b[0m",
      "\u001b[1;31mNameError\u001b[0m                                 Traceback (most recent call last)",
      "Cell \u001b[1;32mIn[1], line 3\u001b[0m\n\u001b[0;32m      1\u001b[0m \u001b[38;5;66;03m# ndarr1 = np.array([[1,2],[3,4],[5,6]])\u001b[39;00m\n\u001b[0;32m      2\u001b[0m \u001b[38;5;66;03m# ndarr2 = np.array([[1,2,3],[3,4,5]])\u001b[39;00m\n\u001b[1;32m----> 3\u001b[0m ndarr1 \u001b[38;5;241m=\u001b[39m np\u001b[38;5;241m.\u001b[39marray([\u001b[38;5;241m1\u001b[39m,\u001b[38;5;241m2\u001b[39m])\n\u001b[0;32m      4\u001b[0m ndarr2 \u001b[38;5;241m=\u001b[39m np\u001b[38;5;241m.\u001b[39marray([\u001b[38;5;241m2\u001b[39m,\u001b[38;5;241m2\u001b[39m])\n\u001b[0;32m      5\u001b[0m \u001b[38;5;66;03m# np.matmul(ndarr1,ndarr2)\u001b[39;00m\n",
      "\u001b[1;31mNameError\u001b[0m: name 'np' is not defined"
     ]
    }
   ],
   "source": [
    "# ndarr1 = np.array([[1,2],[3,4],[5,6]])\n",
    "# ndarr2 = np.array([[1,2,3],[3,4,5]])\n",
    "ndarr1 = np.array([1,2])\n",
    "ndarr2 = np.array([2,2])\n",
    "# np.matmul(ndarr1,ndarr2)\n",
    "print(np.cross(ndarr1,ndarr2))\n",
    "\n",
    "# print(ndarr.ndim)\n",
    "# print(ndarr.shape)\n",
    "# ndarr[ndarr>3]"
   ]
  },
  {
   "cell_type": "code",
   "execution_count": 127,
   "metadata": {},
   "outputs": [
    {
     "name": "stdout",
     "output_type": "stream",
     "text": [
      "[0. 0. 0. 0. 0. 0. 0. 0. 0. 0.]\n",
      "[0. 0. 0. 0. 1. 0. 0. 0. 0. 0.]\n",
      "[10 11 12 13 14 15 16 17 18 19 20 21 22 23 24 25 26 27 28 29 30]\n",
      "[[ 5 34]\n",
      " [96 87]]\n",
      "[[47 51]\n",
      " [75 95]]\n",
      "[[0.09555354 0.44267407 0.86070143 0.24708505]\n",
      " [0.5846946  0.44686075 0.5372866  0.57181178]]\n"
     ]
    }
   ],
   "source": [
    "#실습 Numpy 모듈 사용하기 1\n",
    "import numpy as np\n",
    "import random\n",
    "#1\n",
    "array = np.zeros(10)\n",
    "print(array)\n",
    "\n",
    "#2\n",
    "array[4] = 1\n",
    "print(array)\n",
    "\n",
    "#3\n",
    "array2 = np.arange(10,31)\n",
    "print(array2)\n",
    "\n",
    "#4\n",
    "array3 = np.random.randint(100,size=(2,2))\n",
    "print(array3)\n",
    "\n",
    "#sol2)\n",
    "rng = np.random.default_rng(1) #1자리에 아무거나 넣어도 상관없다! <-seed값 넣은거임 : 특정 seed를 넣었을때 값이 고정된다\n",
    "array3 = rng.integers(0,100,(2,2)) # <- 윗줄이랑 같은곳에서 돌리면 계속 같은 값만 나온다! 따로 떨어뜨려야함\n",
    "print(array3)\n",
    "\n",
    "#5\n",
    "array4 = np.random.rand(2,4)\n",
    "print(array4)"
   ]
  },
  {
   "cell_type": "code",
   "execution_count": 213,
   "metadata": {},
   "outputs": [
    {
     "name": "stdout",
     "output_type": "stream",
     "text": [
      "실습6\n",
      "[[35 36 37 38]\n",
      " [39 40 41 42]\n",
      " [43 44 45 46]\n",
      " [47 48 49 50]\n",
      " [51 52 53 54]\n",
      " [55 56 57 58]\n",
      " [59 60 61 62]\n",
      " [63 64 65 66]\n",
      " [67 68 69 70]\n",
      " [71 72 73 74]]\n",
      "실습7\n",
      "[[71 72 73 74]\n",
      " [67 68 69 70]\n",
      " [63 64 65 66]\n",
      " [59 60 61 62]\n",
      " [55 56 57 58]\n",
      " [51 52 53 54]\n",
      " [47 48 49 50]\n",
      " [43 44 45 46]\n",
      " [39 40 41 42]\n",
      " [35 36 37 38]]\n",
      "실습8\n",
      "[[41 42]\n",
      " [45 46]\n",
      " [49 50]\n",
      " [53 54]\n",
      " [57 58]\n",
      " [61 62]\n",
      " [65 66]\n",
      " [69 70]]\n"
     ]
    }
   ],
   "source": [
    "#실습2\n",
    "#6\n",
    "print(\"실습6\")\n",
    "array = np.arange(35,75)\n",
    "ch_array = array.reshape(10,4)\n",
    "print(ch_array)\n",
    "\n",
    "#7\n",
    "print(\"실습7\")\n",
    "print(ch_array[::-1])\n",
    "\n",
    "#8\n",
    "print(\"실습8\")\n",
    "ch2_array = ch_array[1:-1,2:]\n",
    "print(ch2_array)\n"
   ]
  },
  {
   "cell_type": "code",
   "execution_count": 245,
   "metadata": {},
   "outputs": [
    {
     "name": "stdout",
     "output_type": "stream",
     "text": [
      "9번 문제\n",
      "[38 42 46 50 54 58 62 66 70 74]\n",
      "9-1번 문제\n",
      "[[38]\n",
      " [42]\n",
      " [46]\n",
      " [50]\n",
      " [54]\n",
      " [58]\n",
      " [62]\n",
      " [66]\n",
      " [70]\n",
      " [74]]\n",
      "10번 문제\n",
      "[[74]\n",
      " [70]\n",
      " [66]\n",
      " [62]\n",
      " [58]\n",
      " [54]\n",
      " [50]\n",
      " [46]\n",
      " [42]\n",
      " [38]]\n",
      "11번 문제\n",
      "[48  2 10 46 24  2 22 30 16 38 12 22 32 34 12 28 20  8]\n"
     ]
    }
   ],
   "source": [
    "#9\n",
    "print(\"9번 문제\")\n",
    "ch3_array = ch_array[:,-1]\n",
    "print(ch3_array)\n",
    "\n",
    "#9-1\n",
    "print(\"9-1번 문제\")\n",
    "ch3_array = ch_array[:,-1:]\n",
    "print(ch3_array)\n",
    "\n",
    "#10\n",
    "print(\"10번 문제\")\n",
    "print(ch3_array[::-1])\n",
    "\n",
    "#11\n",
    "print(\"11번 문제\")\n",
    "new_array = np.random.randint(1,50, size = (5,6))\n",
    "print(new_array[new_array % 2 == 0])\n"
   ]
  },
  {
   "cell_type": "code",
   "execution_count": 248,
   "metadata": {},
   "outputs": [
    {
     "name": "stdout",
     "output_type": "stream",
     "text": [
      "[[[1 2]\n",
      "  [3 4]]]\n",
      "(1, 2, 2)\n"
     ]
    }
   ],
   "source": [
    "import numpy as np\n",
    "\n",
    "a = np.array([[1,2],[3,4]])\n",
    "\n",
    "expanded = np.expand_dims(a,0)\n",
    "print(expanded)\n",
    "print(expanded.shape)"
   ]
  },
  {
   "cell_type": "code",
   "execution_count": 250,
   "metadata": {},
   "outputs": [
    {
     "name": "stdout",
     "output_type": "stream",
     "text": [
      "[[[1]\n",
      "  [2]]\n",
      "\n",
      " [[3]\n",
      "  [4]]]\n",
      "(2, 2, 1)\n"
     ]
    }
   ],
   "source": [
    "a = np.array([[1,2],[3,4]])\n",
    "\n",
    "expanded = np.expand_dims(a,1)\n",
    "print(expanded)\n",
    "print(expanded.shape)"
   ]
  },
  {
   "cell_type": "code",
   "execution_count": 252,
   "metadata": {},
   "outputs": [
    {
     "name": "stdout",
     "output_type": "stream",
     "text": [
      "[[[1]\n",
      "  [2]]\n",
      "\n",
      " [[3]\n",
      "  [4]]]\n",
      "(2, 2, 1)\n"
     ]
    }
   ],
   "source": [
    "a = np.array([[1,2],[3,4]])\n",
    "\n",
    "expanded = np.expand_dims(a,2)\n",
    "print(expanded)\n",
    "print(expanded.shape)"
   ]
  },
  {
   "cell_type": "code",
   "execution_count": 254,
   "metadata": {},
   "outputs": [
    {
     "name": "stdout",
     "output_type": "stream",
     "text": [
      "[[[[1. 1. 1.]]\n",
      "\n",
      "  [[1. 1. 1.]]]]\n"
     ]
    }
   ],
   "source": [
    "np_ones = np.ones((1,2,1,3))\n",
    "print(np_ones)"
   ]
  },
  {
   "cell_type": "code",
   "execution_count": 258,
   "metadata": {},
   "outputs": [
    {
     "name": "stdout",
     "output_type": "stream",
     "text": [
      "[[1. 1. 1.]\n",
      " [1. 1. 1.]]\n",
      "(2, 3)\n"
     ]
    }
   ],
   "source": [
    "sq = np.squeeze(np_ones) #아무것도 안하면 1차원인것을 모두 없앤다.T\n",
    "print(sq)\n",
    "print(sq.shape)"
   ]
  },
  {
   "cell_type": "code",
   "execution_count": 275,
   "metadata": {},
   "outputs": [
    {
     "name": "stdout",
     "output_type": "stream",
     "text": [
      "[1 2 3 4]\n",
      "[1 2 3 2]\n",
      "[0 1 3 6]\n"
     ]
    }
   ],
   "source": [
    "#중복 제거\n",
    "a = [1,2,2,3,3,3,4,4] #무조건 index가 가장먼저, counts가 다음으로 나옴\n",
    "u_a, counts,index, = np.unique(a, return_index=True, return_counts=True) #괄호안에 입력된 순서 상관없이 index가 가장 먼저 나옴\n",
    "print(u_a)\n",
    "print(index)\n",
    "print(counts)"
   ]
  },
  {
   "cell_type": "code",
   "execution_count": 277,
   "metadata": {},
   "outputs": [
    {
     "name": "stdout",
     "output_type": "stream",
     "text": [
      "2 3 5\n"
     ]
    }
   ],
   "source": [
    "def add(a=1 ,b=1):\n",
    "    return a,b,a+b\n",
    "\n",
    "a,b,sum = add(2,3)\n",
    "print(a,b,sum)"
   ]
  },
  {
   "cell_type": "code",
   "execution_count": 345,
   "metadata": {},
   "outputs": [
    {
     "name": "stdout",
     "output_type": "stream",
     "text": [
      "a : [1 1 4 2 3]\n",
      "b : [1 1 2 3 4]\n",
      "c : [0 1 3 4 2]\n",
      "cc : [1 1 2 3 4]\n",
      "원래 리스트 : [1 1 4 2 3]\n",
      "a : [1 1 2 3 4]\n"
     ]
    }
   ],
   "source": [
    "#정렬 argsort()중요!!\n",
    "a = np.array([1,1,4,2,3])\n",
    "b = np.sort(a) # a[np.argsort(a)]와 같은 뜻임\n",
    "print(f\"a : {a}\")\n",
    "print(f\"b : {b}\")\n",
    "c = np.argsort(a)\n",
    "print(f\"c : {c}\")\n",
    "print(f\"cc : {a[c]}\")\n",
    "print(f\"원래 리스트 : {a[c.sort()].flatten()}\")\n",
    "a.sort()\n",
    "print(f\"a : {a}\")"
   ]
  },
  {
   "cell_type": "code",
   "execution_count": 284,
   "metadata": {},
   "outputs": [
    {
     "data": {
      "text/plain": [
       "2.5"
      ]
     },
     "execution_count": 284,
     "metadata": {},
     "output_type": "execute_result"
    }
   ],
   "source": [
    "# 그 밖의 유용한 함수\n",
    "a = np.array([1,4,2,3])\n",
    "np.mean(a)"
   ]
  },
  {
   "cell_type": "code",
   "execution_count": 286,
   "metadata": {},
   "outputs": [
    {
     "data": {
      "text/plain": [
       "4"
      ]
     },
     "execution_count": 286,
     "metadata": {},
     "output_type": "execute_result"
    }
   ],
   "source": [
    "np.max(a)"
   ]
  },
  {
   "cell_type": "code",
   "execution_count": 287,
   "metadata": {},
   "outputs": [
    {
     "data": {
      "text/plain": [
       "1.25"
      ]
     },
     "execution_count": 287,
     "metadata": {},
     "output_type": "execute_result"
    }
   ],
   "source": [
    "np.var(a)"
   ]
  },
  {
   "cell_type": "code",
   "execution_count": 289,
   "metadata": {},
   "outputs": [
    {
     "data": {
      "text/plain": [
       "24"
      ]
     },
     "execution_count": 289,
     "metadata": {},
     "output_type": "execute_result"
    }
   ],
   "source": [
    "np.prod(a)"
   ]
  },
  {
   "cell_type": "code",
   "execution_count": 292,
   "metadata": {},
   "outputs": [
    {
     "data": {
      "text/plain": [
       "2.5"
      ]
     },
     "execution_count": 292,
     "metadata": {},
     "output_type": "execute_result"
    }
   ],
   "source": [
    "np.median(a) #중앙값    "
   ]
  },
  {
   "cell_type": "code",
   "execution_count": 294,
   "metadata": {},
   "outputs": [
    {
     "data": {
      "text/plain": [
       "1.118033988749895"
      ]
     },
     "execution_count": 294,
     "metadata": {},
     "output_type": "execute_result"
    }
   ],
   "source": [
    "np.std(a)"
   ]
  },
  {
   "cell_type": "code",
   "execution_count": 304,
   "metadata": {},
   "outputs": [
    {
     "name": "stdout",
     "output_type": "stream",
     "text": [
      "[[  0   1   2   3   4]\n",
      " [-99   6 -99   8 -99]\n",
      " [-99  11 -99  13 -99]]\n",
      "\n",
      "[[-99   1 -99   3 -99]\n",
      " [-99   6 -99   8 -99]\n",
      " [  0  11   2  13   4]]\n",
      "\n",
      "[[  0   1   2   3   4]\n",
      " [-99 -99 -99   6   8]\n",
      " [-99 -99 -99  11  13]]\n"
     ]
    }
   ],
   "source": [
    "import numpy as np #axis= 0 : 행 (|)  axis=1 : 열 (ㅡ)\n",
    "\n",
    "x = np.arange(15, dtype=np.int64).reshape(3,5)\n",
    "x[1:,::2] = -99\n",
    "print(x)\n",
    "\n",
    "print(\"\")\n",
    "a = np.sort(x,axis = 0)\n",
    "print(a)\n",
    "\n",
    "print(\"\")\n",
    "b = np.sort(x,axis = 1)\n",
    "print(b)"
   ]
  },
  {
   "cell_type": "code",
   "execution_count": 372,
   "metadata": {},
   "outputs": [
    {
     "name": "stdout",
     "output_type": "stream",
     "text": [
      "1번\n",
      "[  1   2   3   4   5   7   8   9  10  11  24 100]\n",
      "\n",
      "2번\n",
      "최대값 : 100, 최소값 : 1, 평균값 : 15.333333333333334\n",
      "\n",
      "3번\n",
      "184\n",
      "\n",
      "4번\n",
      "5.0\n"
     ]
    }
   ],
   "source": [
    "#실습 numpy모듈 사용하기 2\n",
    "import numpy as np\n",
    "array = np.array([1,1,2,3,4,5,5,5,5,7,8,9,10,11,24,100])\n",
    "\n",
    "#1\n",
    "print(\"1번\")\n",
    "u_a = np.unique(array)\n",
    "print(u_a)\n",
    "\n",
    "#2\n",
    "print(\"\\n2번\")\n",
    "u_a_M = np.max(u_a)\n",
    "u_a_m = np.min(u_a)\n",
    "u_a_mean = np.mean(u_a)\n",
    "print(f\"최대값 : {u_a_M}, 최소값 : {u_a_m}, 평균값 : {u_a_mean}\")\n",
    "\n",
    "#3\n",
    "print(\"\\n3번\")\n",
    "u_a_sum = np.sum(u_a)\n",
    "print(u_a_sum)\n",
    "\n",
    "#4\n",
    "print(\"\\n4번\")\n",
    "u_a_median = np.median(array)\n",
    "print(u_a_median)\n",
    "\n",
    "\n"
   ]
  },
  {
   "cell_type": "code",
   "execution_count": 377,
   "metadata": {},
   "outputs": [
    {
     "name": "stdout",
     "output_type": "stream",
     "text": [
      "[[  0   1   2   3   4]\n",
      " [-99   6 -99   8 -99]\n",
      " [-99  11 -99  13 -99]]\n",
      "[[  8 -99]\n",
      " [ 13 -99]]\n",
      "\n",
      "1번\n",
      "최대값 : 0, 최소값 : -99, 평균값 : -66.0\n",
      "\n",
      "2번\n",
      "2행 모든 합: -283\n",
      "\n",
      "3번\n",
      "[100  24  11  10   9   8   7   5   5   5   5   4   3   2   1   1]\n"
     ]
    }
   ],
   "source": [
    "#실습3\n",
    "x = np.arange(15, dtype=np.int64).reshape(3,5)\n",
    "x[1:, ::2] = -99\n",
    "print(x)\n",
    "print(x[-2:,-2:])\n",
    "\n",
    "#1\n",
    "print(\"\\n1번\")\n",
    "x_max = np.max(x[:,0],axis=0)\n",
    "x_min = np.min(x[:,0],axis=0)\n",
    "x_mean = np.mean(x[:,0],axis=0)\n",
    "print(f\"최대값 : {x_max}, 최소값 : {x_min}, 평균값 : {x_mean}\")\n",
    "\n",
    "#2\n",
    "print(\"\\n2번\")\n",
    "x_sum = np.sum(x[1:2,:])\n",
    "print(f\"2행 모든 합: {x_sum}\")\n",
    "\n",
    "# #3\n",
    "print(\"\\n3번\")\n",
    "array2 = np.argsort(array)\n",
    "a = array[array2]\n",
    "print(a[::-1])\n"
   ]
  }
 ],
 "metadata": {
  "kernelspec": {
   "display_name": "base",
   "language": "python",
   "name": "python3"
  },
  "language_info": {
   "codemirror_mode": {
    "name": "ipython",
    "version": 3
   },
   "file_extension": ".py",
   "mimetype": "text/x-python",
   "name": "python",
   "nbconvert_exporter": "python",
   "pygments_lexer": "ipython3",
   "version": "3.12.7"
  }
 },
 "nbformat": 4,
 "nbformat_minor": 4
}
